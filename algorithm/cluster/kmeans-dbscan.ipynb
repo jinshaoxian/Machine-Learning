{
 "cells": [
  {
   "cell_type": "code",
   "execution_count": 1,
   "metadata": {},
   "outputs": [
    {
     "data": {
      "text/html": [
       "<div>\n",
       "<style scoped>\n",
       "    .dataframe tbody tr th:only-of-type {\n",
       "        vertical-align: middle;\n",
       "    }\n",
       "\n",
       "    .dataframe tbody tr th {\n",
       "        vertical-align: top;\n",
       "    }\n",
       "\n",
       "    .dataframe thead th {\n",
       "        text-align: right;\n",
       "    }\n",
       "</style>\n",
       "<table border=\"1\" class=\"dataframe\">\n",
       "  <thead>\n",
       "    <tr style=\"text-align: right;\">\n",
       "      <th></th>\n",
       "      <th>name</th>\n",
       "      <th>calories</th>\n",
       "      <th>sodium</th>\n",
       "      <th>alcohol</th>\n",
       "      <th>cost</th>\n",
       "    </tr>\n",
       "  </thead>\n",
       "  <tbody>\n",
       "    <tr>\n",
       "      <th>0</th>\n",
       "      <td>Budweiser</td>\n",
       "      <td>144</td>\n",
       "      <td>15</td>\n",
       "      <td>4.7</td>\n",
       "      <td>0.43</td>\n",
       "    </tr>\n",
       "    <tr>\n",
       "      <th>1</th>\n",
       "      <td>Schlitz</td>\n",
       "      <td>151</td>\n",
       "      <td>15</td>\n",
       "      <td>4.9</td>\n",
       "      <td>0.43</td>\n",
       "    </tr>\n",
       "    <tr>\n",
       "      <th>2</th>\n",
       "      <td>LowernBrau</td>\n",
       "      <td>157</td>\n",
       "      <td>15</td>\n",
       "      <td>0.9</td>\n",
       "      <td>0.48</td>\n",
       "    </tr>\n",
       "    <tr>\n",
       "      <th>3</th>\n",
       "      <td>Kronenbourg</td>\n",
       "      <td>170</td>\n",
       "      <td>7</td>\n",
       "      <td>5.2</td>\n",
       "      <td>0.73</td>\n",
       "    </tr>\n",
       "    <tr>\n",
       "      <th>4</th>\n",
       "      <td>Abbnes</td>\n",
       "      <td>161</td>\n",
       "      <td>11</td>\n",
       "      <td>5.0</td>\n",
       "      <td>0.73</td>\n",
       "    </tr>\n",
       "    <tr>\n",
       "      <th>5</th>\n",
       "      <td>Lieksl</td>\n",
       "      <td>152</td>\n",
       "      <td>11</td>\n",
       "      <td>5.0</td>\n",
       "      <td>0.77</td>\n",
       "    </tr>\n",
       "    <tr>\n",
       "      <th>6</th>\n",
       "      <td>Nkiwkk</td>\n",
       "      <td>145</td>\n",
       "      <td>23</td>\n",
       "      <td>4.6</td>\n",
       "      <td>0.23</td>\n",
       "    </tr>\n",
       "    <tr>\n",
       "      <th>7</th>\n",
       "      <td>Nkilse</td>\n",
       "      <td>175</td>\n",
       "      <td>24</td>\n",
       "      <td>5.5</td>\n",
       "      <td>0.42</td>\n",
       "    </tr>\n",
       "    <tr>\n",
       "      <th>8</th>\n",
       "      <td>Ulisefs</td>\n",
       "      <td>149</td>\n",
       "      <td>27</td>\n",
       "      <td>4.7</td>\n",
       "      <td>0.40</td>\n",
       "    </tr>\n",
       "    <tr>\n",
       "      <th>9</th>\n",
       "      <td>Ulinss</td>\n",
       "      <td>154</td>\n",
       "      <td>28</td>\n",
       "      <td>3.6</td>\n",
       "      <td>0.35</td>\n",
       "    </tr>\n",
       "    <tr>\n",
       "      <th>10</th>\n",
       "      <td>Qsedse</td>\n",
       "      <td>135</td>\n",
       "      <td>11</td>\n",
       "      <td>4.2</td>\n",
       "      <td>0.36</td>\n",
       "    </tr>\n",
       "    <tr>\n",
       "      <th>11</th>\n",
       "      <td>Abbiue</td>\n",
       "      <td>150</td>\n",
       "      <td>19</td>\n",
       "      <td>4.7</td>\n",
       "      <td>0.61</td>\n",
       "    </tr>\n",
       "    <tr>\n",
       "      <th>12</th>\n",
       "      <td>Snsef</td>\n",
       "      <td>68</td>\n",
       "      <td>15</td>\n",
       "      <td>2.3</td>\n",
       "      <td>0.54</td>\n",
       "    </tr>\n",
       "    <tr>\n",
       "      <th>13</th>\n",
       "      <td>Ocean</td>\n",
       "      <td>131</td>\n",
       "      <td>19</td>\n",
       "      <td>4.4</td>\n",
       "      <td>0.79</td>\n",
       "    </tr>\n",
       "    <tr>\n",
       "      <th>14</th>\n",
       "      <td>Ssdfi</td>\n",
       "      <td>97</td>\n",
       "      <td>7</td>\n",
       "      <td>4.2</td>\n",
       "      <td>0.47</td>\n",
       "    </tr>\n",
       "  </tbody>\n",
       "</table>\n",
       "</div>"
      ],
      "text/plain": [
       "           name  calories  sodium  alcohol  cost\n",
       "0     Budweiser       144      15      4.7  0.43\n",
       "1       Schlitz       151      15      4.9  0.43\n",
       "2    LowernBrau       157      15      0.9  0.48\n",
       "3   Kronenbourg       170       7      5.2  0.73\n",
       "4        Abbnes       161      11      5.0  0.73\n",
       "5        Lieksl       152      11      5.0  0.77\n",
       "6        Nkiwkk       145      23      4.6  0.23\n",
       "7        Nkilse       175      24      5.5  0.42\n",
       "8       Ulisefs       149      27      4.7  0.40\n",
       "9        Ulinss       154      28      3.6  0.35\n",
       "10       Qsedse       135      11      4.2  0.36\n",
       "11       Abbiue       150      19      4.7  0.61\n",
       "12        Snsef        68      15      2.3  0.54\n",
       "13        Ocean       131      19      4.4  0.79\n",
       "14        Ssdfi        97       7      4.2  0.47"
      ]
     },
     "execution_count": 1,
     "metadata": {},
     "output_type": "execute_result"
    }
   ],
   "source": [
    "import pandas as pd\n",
    "beer = pd.read_csv('data.txt',sep=',')\n",
    "beer"
   ]
  },
  {
   "cell_type": "code",
   "execution_count": 2,
   "metadata": {},
   "outputs": [],
   "source": [
    "X = beer[['calories','sodium','alcohol','cost']]"
   ]
  },
  {
   "cell_type": "markdown",
   "metadata": {},
   "source": [
    "K-means clustering "
   ]
  },
  {
   "cell_type": "code",
   "execution_count": 3,
   "metadata": {},
   "outputs": [],
   "source": [
    "from sklearn.cluster import KMeans\n",
    "\n",
    "km = KMeans(n_clusters=3).fit(X)\n",
    "km2 = KMeans(n_clusters=2).fit(X)"
   ]
  },
  {
   "cell_type": "code",
   "execution_count": 4,
   "metadata": {},
   "outputs": [
    {
     "data": {
      "text/plain": [
       "array([0, 0, 0, 2, 2, 0, 0, 2, 0, 0, 0, 0, 1, 0, 1])"
      ]
     },
     "execution_count": 4,
     "metadata": {},
     "output_type": "execute_result"
    }
   ],
   "source": [
    "km.labels_"
   ]
  },
  {
   "cell_type": "code",
   "execution_count": 5,
   "metadata": {},
   "outputs": [
    {
     "data": {
      "text/html": [
       "<div>\n",
       "<style scoped>\n",
       "    .dataframe tbody tr th:only-of-type {\n",
       "        vertical-align: middle;\n",
       "    }\n",
       "\n",
       "    .dataframe tbody tr th {\n",
       "        vertical-align: top;\n",
       "    }\n",
       "\n",
       "    .dataframe thead th {\n",
       "        text-align: right;\n",
       "    }\n",
       "</style>\n",
       "<table border=\"1\" class=\"dataframe\">\n",
       "  <thead>\n",
       "    <tr style=\"text-align: right;\">\n",
       "      <th></th>\n",
       "      <th>name</th>\n",
       "      <th>calories</th>\n",
       "      <th>sodium</th>\n",
       "      <th>alcohol</th>\n",
       "      <th>cost</th>\n",
       "      <th>cluster</th>\n",
       "      <th>cluster2</th>\n",
       "    </tr>\n",
       "  </thead>\n",
       "  <tbody>\n",
       "    <tr>\n",
       "      <th>0</th>\n",
       "      <td>Budweiser</td>\n",
       "      <td>144</td>\n",
       "      <td>15</td>\n",
       "      <td>4.7</td>\n",
       "      <td>0.43</td>\n",
       "      <td>0</td>\n",
       "      <td>1</td>\n",
       "    </tr>\n",
       "    <tr>\n",
       "      <th>1</th>\n",
       "      <td>Schlitz</td>\n",
       "      <td>151</td>\n",
       "      <td>15</td>\n",
       "      <td>4.9</td>\n",
       "      <td>0.43</td>\n",
       "      <td>0</td>\n",
       "      <td>1</td>\n",
       "    </tr>\n",
       "    <tr>\n",
       "      <th>2</th>\n",
       "      <td>LowernBrau</td>\n",
       "      <td>157</td>\n",
       "      <td>15</td>\n",
       "      <td>0.9</td>\n",
       "      <td>0.48</td>\n",
       "      <td>0</td>\n",
       "      <td>1</td>\n",
       "    </tr>\n",
       "    <tr>\n",
       "      <th>5</th>\n",
       "      <td>Lieksl</td>\n",
       "      <td>152</td>\n",
       "      <td>11</td>\n",
       "      <td>5.0</td>\n",
       "      <td>0.77</td>\n",
       "      <td>0</td>\n",
       "      <td>1</td>\n",
       "    </tr>\n",
       "    <tr>\n",
       "      <th>6</th>\n",
       "      <td>Nkiwkk</td>\n",
       "      <td>145</td>\n",
       "      <td>23</td>\n",
       "      <td>4.6</td>\n",
       "      <td>0.23</td>\n",
       "      <td>0</td>\n",
       "      <td>1</td>\n",
       "    </tr>\n",
       "    <tr>\n",
       "      <th>8</th>\n",
       "      <td>Ulisefs</td>\n",
       "      <td>149</td>\n",
       "      <td>27</td>\n",
       "      <td>4.7</td>\n",
       "      <td>0.40</td>\n",
       "      <td>0</td>\n",
       "      <td>1</td>\n",
       "    </tr>\n",
       "    <tr>\n",
       "      <th>9</th>\n",
       "      <td>Ulinss</td>\n",
       "      <td>154</td>\n",
       "      <td>28</td>\n",
       "      <td>3.6</td>\n",
       "      <td>0.35</td>\n",
       "      <td>0</td>\n",
       "      <td>1</td>\n",
       "    </tr>\n",
       "    <tr>\n",
       "      <th>10</th>\n",
       "      <td>Qsedse</td>\n",
       "      <td>135</td>\n",
       "      <td>11</td>\n",
       "      <td>4.2</td>\n",
       "      <td>0.36</td>\n",
       "      <td>0</td>\n",
       "      <td>1</td>\n",
       "    </tr>\n",
       "    <tr>\n",
       "      <th>11</th>\n",
       "      <td>Abbiue</td>\n",
       "      <td>150</td>\n",
       "      <td>19</td>\n",
       "      <td>4.7</td>\n",
       "      <td>0.61</td>\n",
       "      <td>0</td>\n",
       "      <td>1</td>\n",
       "    </tr>\n",
       "    <tr>\n",
       "      <th>13</th>\n",
       "      <td>Ocean</td>\n",
       "      <td>131</td>\n",
       "      <td>19</td>\n",
       "      <td>4.4</td>\n",
       "      <td>0.79</td>\n",
       "      <td>0</td>\n",
       "      <td>1</td>\n",
       "    </tr>\n",
       "    <tr>\n",
       "      <th>12</th>\n",
       "      <td>Snsef</td>\n",
       "      <td>68</td>\n",
       "      <td>15</td>\n",
       "      <td>2.3</td>\n",
       "      <td>0.54</td>\n",
       "      <td>1</td>\n",
       "      <td>0</td>\n",
       "    </tr>\n",
       "    <tr>\n",
       "      <th>14</th>\n",
       "      <td>Ssdfi</td>\n",
       "      <td>97</td>\n",
       "      <td>7</td>\n",
       "      <td>4.2</td>\n",
       "      <td>0.47</td>\n",
       "      <td>1</td>\n",
       "      <td>0</td>\n",
       "    </tr>\n",
       "    <tr>\n",
       "      <th>3</th>\n",
       "      <td>Kronenbourg</td>\n",
       "      <td>170</td>\n",
       "      <td>7</td>\n",
       "      <td>5.2</td>\n",
       "      <td>0.73</td>\n",
       "      <td>2</td>\n",
       "      <td>1</td>\n",
       "    </tr>\n",
       "    <tr>\n",
       "      <th>4</th>\n",
       "      <td>Abbnes</td>\n",
       "      <td>161</td>\n",
       "      <td>11</td>\n",
       "      <td>5.0</td>\n",
       "      <td>0.73</td>\n",
       "      <td>2</td>\n",
       "      <td>1</td>\n",
       "    </tr>\n",
       "    <tr>\n",
       "      <th>7</th>\n",
       "      <td>Nkilse</td>\n",
       "      <td>175</td>\n",
       "      <td>24</td>\n",
       "      <td>5.5</td>\n",
       "      <td>0.42</td>\n",
       "      <td>2</td>\n",
       "      <td>1</td>\n",
       "    </tr>\n",
       "  </tbody>\n",
       "</table>\n",
       "</div>"
      ],
      "text/plain": [
       "           name  calories  sodium  alcohol  cost  cluster  cluster2\n",
       "0     Budweiser       144      15      4.7  0.43        0         1\n",
       "1       Schlitz       151      15      4.9  0.43        0         1\n",
       "2    LowernBrau       157      15      0.9  0.48        0         1\n",
       "5        Lieksl       152      11      5.0  0.77        0         1\n",
       "6        Nkiwkk       145      23      4.6  0.23        0         1\n",
       "8       Ulisefs       149      27      4.7  0.40        0         1\n",
       "9        Ulinss       154      28      3.6  0.35        0         1\n",
       "10       Qsedse       135      11      4.2  0.36        0         1\n",
       "11       Abbiue       150      19      4.7  0.61        0         1\n",
       "13        Ocean       131      19      4.4  0.79        0         1\n",
       "12        Snsef        68      15      2.3  0.54        1         0\n",
       "14        Ssdfi        97       7      4.2  0.47        1         0\n",
       "3   Kronenbourg       170       7      5.2  0.73        2         1\n",
       "4        Abbnes       161      11      5.0  0.73        2         1\n",
       "7        Nkilse       175      24      5.5  0.42        2         1"
      ]
     },
     "execution_count": 5,
     "metadata": {},
     "output_type": "execute_result"
    }
   ],
   "source": [
    "beer['cluster'] = km.labels_\n",
    "beer['cluster2'] = km2.labels_\n",
    "beer.sort_values('cluster')"
   ]
  },
  {
   "cell_type": "code",
   "execution_count": 6,
   "metadata": {},
   "outputs": [
    {
     "name": "stdout",
     "output_type": "stream",
     "text": [
      "[[146.8         18.3          4.17         0.485     ]\n",
      " [ 82.5         11.           3.25         0.505     ]\n",
      " [168.66666667  14.           5.23333333   0.62666667]]\n"
     ]
    }
   ],
   "source": [
    "from pandas.tools.plotting import scatter_matrix\n",
    "%matplotlib inline\n",
    "\n",
    "cluster_center = km.cluster_centers_\n",
    "cluster_center2 = km2.cluster_centers_\n",
    "print(cluster_center)"
   ]
  },
  {
   "cell_type": "code",
   "execution_count": 7,
   "metadata": {},
   "outputs": [
    {
     "data": {
      "text/html": [
       "<div>\n",
       "<style scoped>\n",
       "    .dataframe tbody tr th:only-of-type {\n",
       "        vertical-align: middle;\n",
       "    }\n",
       "\n",
       "    .dataframe tbody tr th {\n",
       "        vertical-align: top;\n",
       "    }\n",
       "\n",
       "    .dataframe thead th {\n",
       "        text-align: right;\n",
       "    }\n",
       "</style>\n",
       "<table border=\"1\" class=\"dataframe\">\n",
       "  <thead>\n",
       "    <tr style=\"text-align: right;\">\n",
       "      <th></th>\n",
       "      <th>calories</th>\n",
       "      <th>sodium</th>\n",
       "      <th>alcohol</th>\n",
       "      <th>cost</th>\n",
       "      <th>cluster2</th>\n",
       "    </tr>\n",
       "    <tr>\n",
       "      <th>cluster</th>\n",
       "      <th></th>\n",
       "      <th></th>\n",
       "      <th></th>\n",
       "      <th></th>\n",
       "      <th></th>\n",
       "    </tr>\n",
       "  </thead>\n",
       "  <tbody>\n",
       "    <tr>\n",
       "      <th>0</th>\n",
       "      <td>146.800000</td>\n",
       "      <td>18.3</td>\n",
       "      <td>4.170000</td>\n",
       "      <td>0.485000</td>\n",
       "      <td>1</td>\n",
       "    </tr>\n",
       "    <tr>\n",
       "      <th>1</th>\n",
       "      <td>82.500000</td>\n",
       "      <td>11.0</td>\n",
       "      <td>3.250000</td>\n",
       "      <td>0.505000</td>\n",
       "      <td>0</td>\n",
       "    </tr>\n",
       "    <tr>\n",
       "      <th>2</th>\n",
       "      <td>168.666667</td>\n",
       "      <td>14.0</td>\n",
       "      <td>5.233333</td>\n",
       "      <td>0.626667</td>\n",
       "      <td>1</td>\n",
       "    </tr>\n",
       "  </tbody>\n",
       "</table>\n",
       "</div>"
      ],
      "text/plain": [
       "           calories  sodium   alcohol      cost  cluster2\n",
       "cluster                                                  \n",
       "0        146.800000    18.3  4.170000  0.485000         1\n",
       "1         82.500000    11.0  3.250000  0.505000         0\n",
       "2        168.666667    14.0  5.233333  0.626667         1"
      ]
     },
     "execution_count": 7,
     "metadata": {},
     "output_type": "execute_result"
    }
   ],
   "source": [
    "beer.groupby(\"cluster\").mean()"
   ]
  },
  {
   "cell_type": "code",
   "execution_count": 8,
   "metadata": {},
   "outputs": [
    {
     "data": {
      "text/html": [
       "<div>\n",
       "<style scoped>\n",
       "    .dataframe tbody tr th:only-of-type {\n",
       "        vertical-align: middle;\n",
       "    }\n",
       "\n",
       "    .dataframe tbody tr th {\n",
       "        vertical-align: top;\n",
       "    }\n",
       "\n",
       "    .dataframe thead th {\n",
       "        text-align: right;\n",
       "    }\n",
       "</style>\n",
       "<table border=\"1\" class=\"dataframe\">\n",
       "  <thead>\n",
       "    <tr style=\"text-align: right;\">\n",
       "      <th></th>\n",
       "      <th>calories</th>\n",
       "      <th>sodium</th>\n",
       "      <th>alcohol</th>\n",
       "      <th>cost</th>\n",
       "      <th>cluster</th>\n",
       "    </tr>\n",
       "    <tr>\n",
       "      <th>cluster2</th>\n",
       "      <th></th>\n",
       "      <th></th>\n",
       "      <th></th>\n",
       "      <th></th>\n",
       "      <th></th>\n",
       "    </tr>\n",
       "  </thead>\n",
       "  <tbody>\n",
       "    <tr>\n",
       "      <th>0</th>\n",
       "      <td>82.500000</td>\n",
       "      <td>11.000000</td>\n",
       "      <td>3.250000</td>\n",
       "      <td>0.505000</td>\n",
       "      <td>1.000000</td>\n",
       "    </tr>\n",
       "    <tr>\n",
       "      <th>1</th>\n",
       "      <td>151.846154</td>\n",
       "      <td>17.307692</td>\n",
       "      <td>4.415385</td>\n",
       "      <td>0.517692</td>\n",
       "      <td>0.461538</td>\n",
       "    </tr>\n",
       "  </tbody>\n",
       "</table>\n",
       "</div>"
      ],
      "text/plain": [
       "            calories     sodium   alcohol      cost   cluster\n",
       "cluster2                                                     \n",
       "0          82.500000  11.000000  3.250000  0.505000  1.000000\n",
       "1         151.846154  17.307692  4.415385  0.517692  0.461538"
      ]
     },
     "execution_count": 8,
     "metadata": {},
     "output_type": "execute_result"
    }
   ],
   "source": [
    "beer.groupby(\"cluster2\").mean()"
   ]
  },
  {
   "cell_type": "code",
   "execution_count": 9,
   "metadata": {},
   "outputs": [
    {
     "name": "stdout",
     "output_type": "stream",
     "text": [
      "   cluster    calories  sodium   alcohol      cost  cluster2\n",
      "0        0  146.800000    18.3  4.170000  0.485000         1\n",
      "1        1   82.500000    11.0  3.250000  0.505000         0\n",
      "2        2  168.666667    14.0  5.233333  0.626667         1\n"
     ]
    }
   ],
   "source": [
    "centers = beer.groupby('cluster').mean().reset_index()\n",
    "print(centers)"
   ]
  },
  {
   "cell_type": "code",
   "execution_count": 10,
   "metadata": {},
   "outputs": [],
   "source": [
    "%matplotlib inline\n",
    "import matplotlib.pyplot as plt \n",
    "plt.rcParams['font.size'] = 14"
   ]
  },
  {
   "cell_type": "code",
   "execution_count": 11,
   "metadata": {},
   "outputs": [
    {
     "name": "stdout",
     "output_type": "stream",
     "text": [
      "['red' 'red' 'red' 'green' 'green' 'red' 'red' 'green' 'red' 'red' 'red'\n",
      " 'red' 'blue' 'red' 'blue']\n"
     ]
    }
   ],
   "source": [
    "import numpy as np \n",
    "colors = np.array(['red','blue','green','yellow'])\n",
    "print(colors[beer['cluster']])"
   ]
  },
  {
   "cell_type": "code",
   "execution_count": 12,
   "metadata": {},
   "outputs": [
    {
     "data": {
      "text/plain": [
       "Text(0,0.5,'Alcohol')"
      ]
     },
     "execution_count": 12,
     "metadata": {},
     "output_type": "execute_result"
    },
    {
     "data": {
      "image/png": "[encoded data removed]",
      "text/plain": [
       "<Figure size 432x288 with 1 Axes>"
      ]
     },
     "metadata": {},
     "output_type": "display_data"
    }
   ],
   "source": [
    "plt.scatter(beer['calories'],beer['alcohol'],c=colors[beer['cluster']])\n",
    "plt.scatter(centers.calories,centers.alcohol,linewidths=3,marker='+',s=300,c='black')\n",
    "plt.xlabel('Calories')\n",
    "plt.ylabel('Alcohol')"
   ]
  },
  {
   "cell_type": "code",
   "execution_count": 13,
   "metadata": {},
   "outputs": [
    {
     "name": "stderr",
     "output_type": "stream",
     "text": [
      "D:\\Anaconda3\\lib\\site-packages\\ipykernel_launcher.py:1: FutureWarning: 'pandas.tools.plotting.scatter_matrix' is deprecated, import 'pandas.plotting.scatter_matrix' instead.\n",
      "  \"\"\"Entry point for launching an IPython kernel.\n"
     ]
    },
    {
     "data": {
      "text/plain": [
       "Text(0.5,0.98,'with 3 centroids initialized')"
      ]
     },
     "execution_count": 13,
     "metadata": {},
     "output_type": "execute_result"
    },
    {
     "data": {
      "image/png": "[encoded data removed]",
      "text/plain": [
       "<Figure size 1440x1440 with 16 Axes>"
      ]
     },
     "metadata": {},
     "output_type": "display_data"
    }
   ],
   "source": [
    "scatter_matrix(beer[['calories','sodium','alcohol','cost']],s=100,alpha=1,c=colors[beer['cluster']],figsize=(20,20))\n",
    "plt.suptitle(\"with 3 centroids initialized\")"
   ]
  },
  {
   "cell_type": "code",
   "execution_count": 14,
   "metadata": {},
   "outputs": [
    {
     "name": "stderr",
     "output_type": "stream",
     "text": [
      "D:\\Anaconda3\\lib\\site-packages\\ipykernel_launcher.py:1: FutureWarning: 'pandas.tools.plotting.scatter_matrix' is deprecated, import 'pandas.plotting.scatter_matrix' instead.\n",
      "  \"\"\"Entry point for launching an IPython kernel.\n"
     ]
    },
    {
     "data": {
      "text/plain": [
       "Text(0.5,0.98,'with 2 centroids initialized')"
      ]
     },
     "execution_count": 14,
     "metadata": {},
     "output_type": "execute_result"
    },
    {
     "data": {
      "image/png": "[encoded data removed]",
      "text/plain": [
       "<Figure size 1440x1440 with 16 Axes>"
      ]
     },
     "metadata": {},
     "output_type": "display_data"
    }
   ],
   "source": [
    "scatter_matrix(beer[['calories','sodium','alcohol','cost']],s=100,alpha=1,c=colors[beer['cluster2']],figsize=(20,20))\n",
    "plt.suptitle(\"with 2 centroids initialized\")"
   ]
  },
  {
   "cell_type": "markdown",
   "metadata": {},
   "source": [
    "Scaled data //扩展的数据"
   ]
  },
  {
   "cell_type": "code",
   "execution_count": 15,
   "metadata": {},
   "outputs": [
    {
     "data": {
      "text/plain": [
       "array([[ 0.05272555, -0.22564399,  0.37901002, -0.51693547],\n",
       "       [ 0.31635333, -0.22564399,  0.5512873 , -0.51693547],\n",
       "       [ 0.54231999, -0.22564399, -2.89425833, -0.21639159],\n",
       "       [ 1.03191443, -1.45642941,  0.80970322,  1.28632779],\n",
       "       [ 0.69296443, -0.8410367 ,  0.63742594,  1.28632779],\n",
       "       [ 0.35401444, -0.8410367 ,  0.63742594,  1.52676289],\n",
       "       [ 0.09038667,  1.00514142,  0.29287138, -1.71911097],\n",
       "       [ 1.22021998,  1.1589896 ,  1.06811915, -0.57704424],\n",
       "       [ 0.24103111,  1.62053413,  0.37901002, -0.69726179],\n",
       "       [ 0.42933666,  1.77438231, -0.56851503, -0.99780567],\n",
       "       [-0.28622444, -0.8410367 , -0.05168318, -0.93769689],\n",
       "       [ 0.27869222,  0.38974871,  0.37901002,  0.56502249],\n",
       "       [-2.80951884, -0.22564399, -1.68831736,  0.14426106],\n",
       "       [-0.43686888,  0.38974871,  0.1205941 ,  1.64698044],\n",
       "       [-1.71734664, -1.45642941, -0.05168318, -0.27650037]])"
      ]
     },
     "execution_count": 15,
     "metadata": {},
     "output_type": "execute_result"
    }
   ],
   "source": [
    "#对数据归一化处理，原来的数据有的是三位数，有的是小数，计算起来不公平。\n",
    "#聚类之前都要做这样的处理，归一化，标准化\n",
    "from sklearn.preprocessing import StandardScaler\n",
    "\n",
    "scaler = StandardScaler()\n",
    "X_scalerd = scaler.fit_transform(X)\n",
    "X_scalerd"
   ]
  },
  {
   "cell_type": "code",
   "execution_count": 16,
   "metadata": {},
   "outputs": [],
   "source": [
    "km = KMeans(n_clusters=3).fit(X_scalerd)"
   ]
  },
  {
   "cell_type": "code",
   "execution_count": 17,
   "metadata": {},
   "outputs": [
    {
     "data": {
      "text/html": [
       "<div>\n",
       "<style scoped>\n",
       "    .dataframe tbody tr th:only-of-type {\n",
       "        vertical-align: middle;\n",
       "    }\n",
       "\n",
       "    .dataframe tbody tr th {\n",
       "        vertical-align: top;\n",
       "    }\n",
       "\n",
       "    .dataframe thead th {\n",
       "        text-align: right;\n",
       "    }\n",
       "</style>\n",
       "<table border=\"1\" class=\"dataframe\">\n",
       "  <thead>\n",
       "    <tr style=\"text-align: right;\">\n",
       "      <th></th>\n",
       "      <th>name</th>\n",
       "      <th>calories</th>\n",
       "      <th>sodium</th>\n",
       "      <th>alcohol</th>\n",
       "      <th>cost</th>\n",
       "      <th>cluster</th>\n",
       "      <th>cluster2</th>\n",
       "      <th>scaler_cluster</th>\n",
       "    </tr>\n",
       "  </thead>\n",
       "  <tbody>\n",
       "    <tr>\n",
       "      <th>2</th>\n",
       "      <td>LowernBrau</td>\n",
       "      <td>157</td>\n",
       "      <td>15</td>\n",
       "      <td>0.9</td>\n",
       "      <td>0.48</td>\n",
       "      <td>0</td>\n",
       "      <td>1</td>\n",
       "      <td>0</td>\n",
       "    </tr>\n",
       "    <tr>\n",
       "      <th>10</th>\n",
       "      <td>Qsedse</td>\n",
       "      <td>135</td>\n",
       "      <td>11</td>\n",
       "      <td>4.2</td>\n",
       "      <td>0.36</td>\n",
       "      <td>0</td>\n",
       "      <td>1</td>\n",
       "      <td>0</td>\n",
       "    </tr>\n",
       "    <tr>\n",
       "      <th>12</th>\n",
       "      <td>Snsef</td>\n",
       "      <td>68</td>\n",
       "      <td>15</td>\n",
       "      <td>2.3</td>\n",
       "      <td>0.54</td>\n",
       "      <td>1</td>\n",
       "      <td>0</td>\n",
       "      <td>0</td>\n",
       "    </tr>\n",
       "    <tr>\n",
       "      <th>14</th>\n",
       "      <td>Ssdfi</td>\n",
       "      <td>97</td>\n",
       "      <td>7</td>\n",
       "      <td>4.2</td>\n",
       "      <td>0.47</td>\n",
       "      <td>1</td>\n",
       "      <td>0</td>\n",
       "      <td>0</td>\n",
       "    </tr>\n",
       "    <tr>\n",
       "      <th>3</th>\n",
       "      <td>Kronenbourg</td>\n",
       "      <td>170</td>\n",
       "      <td>7</td>\n",
       "      <td>5.2</td>\n",
       "      <td>0.73</td>\n",
       "      <td>2</td>\n",
       "      <td>1</td>\n",
       "      <td>1</td>\n",
       "    </tr>\n",
       "    <tr>\n",
       "      <th>4</th>\n",
       "      <td>Abbnes</td>\n",
       "      <td>161</td>\n",
       "      <td>11</td>\n",
       "      <td>5.0</td>\n",
       "      <td>0.73</td>\n",
       "      <td>2</td>\n",
       "      <td>1</td>\n",
       "      <td>1</td>\n",
       "    </tr>\n",
       "    <tr>\n",
       "      <th>5</th>\n",
       "      <td>Lieksl</td>\n",
       "      <td>152</td>\n",
       "      <td>11</td>\n",
       "      <td>5.0</td>\n",
       "      <td>0.77</td>\n",
       "      <td>0</td>\n",
       "      <td>1</td>\n",
       "      <td>1</td>\n",
       "    </tr>\n",
       "    <tr>\n",
       "      <th>11</th>\n",
       "      <td>Abbiue</td>\n",
       "      <td>150</td>\n",
       "      <td>19</td>\n",
       "      <td>4.7</td>\n",
       "      <td>0.61</td>\n",
       "      <td>0</td>\n",
       "      <td>1</td>\n",
       "      <td>1</td>\n",
       "    </tr>\n",
       "    <tr>\n",
       "      <th>13</th>\n",
       "      <td>Ocean</td>\n",
       "      <td>131</td>\n",
       "      <td>19</td>\n",
       "      <td>4.4</td>\n",
       "      <td>0.79</td>\n",
       "      <td>0</td>\n",
       "      <td>1</td>\n",
       "      <td>1</td>\n",
       "    </tr>\n",
       "    <tr>\n",
       "      <th>0</th>\n",
       "      <td>Budweiser</td>\n",
       "      <td>144</td>\n",
       "      <td>15</td>\n",
       "      <td>4.7</td>\n",
       "      <td>0.43</td>\n",
       "      <td>0</td>\n",
       "      <td>1</td>\n",
       "      <td>2</td>\n",
       "    </tr>\n",
       "    <tr>\n",
       "      <th>1</th>\n",
       "      <td>Schlitz</td>\n",
       "      <td>151</td>\n",
       "      <td>15</td>\n",
       "      <td>4.9</td>\n",
       "      <td>0.43</td>\n",
       "      <td>0</td>\n",
       "      <td>1</td>\n",
       "      <td>2</td>\n",
       "    </tr>\n",
       "    <tr>\n",
       "      <th>6</th>\n",
       "      <td>Nkiwkk</td>\n",
       "      <td>145</td>\n",
       "      <td>23</td>\n",
       "      <td>4.6</td>\n",
       "      <td>0.23</td>\n",
       "      <td>0</td>\n",
       "      <td>1</td>\n",
       "      <td>2</td>\n",
       "    </tr>\n",
       "    <tr>\n",
       "      <th>7</th>\n",
       "      <td>Nkilse</td>\n",
       "      <td>175</td>\n",
       "      <td>24</td>\n",
       "      <td>5.5</td>\n",
       "      <td>0.42</td>\n",
       "      <td>2</td>\n",
       "      <td>1</td>\n",
       "      <td>2</td>\n",
       "    </tr>\n",
       "    <tr>\n",
       "      <th>8</th>\n",
       "      <td>Ulisefs</td>\n",
       "      <td>149</td>\n",
       "      <td>27</td>\n",
       "      <td>4.7</td>\n",
       "      <td>0.40</td>\n",
       "      <td>0</td>\n",
       "      <td>1</td>\n",
       "      <td>2</td>\n",
       "    </tr>\n",
       "    <tr>\n",
       "      <th>9</th>\n",
       "      <td>Ulinss</td>\n",
       "      <td>154</td>\n",
       "      <td>28</td>\n",
       "      <td>3.6</td>\n",
       "      <td>0.35</td>\n",
       "      <td>0</td>\n",
       "      <td>1</td>\n",
       "      <td>2</td>\n",
       "    </tr>\n",
       "  </tbody>\n",
       "</table>\n",
       "</div>"
      ],
      "text/plain": [
       "           name  calories  sodium  alcohol  cost  cluster  cluster2  \\\n",
       "2    LowernBrau       157      15      0.9  0.48        0         1   \n",
       "10       Qsedse       135      11      4.2  0.36        0         1   \n",
       "12        Snsef        68      15      2.3  0.54        1         0   \n",
       "14        Ssdfi        97       7      4.2  0.47        1         0   \n",
       "3   Kronenbourg       170       7      5.2  0.73        2         1   \n",
       "4        Abbnes       161      11      5.0  0.73        2         1   \n",
       "5        Lieksl       152      11      5.0  0.77        0         1   \n",
       "11       Abbiue       150      19      4.7  0.61        0         1   \n",
       "13        Ocean       131      19      4.4  0.79        0         1   \n",
       "0     Budweiser       144      15      4.7  0.43        0         1   \n",
       "1       Schlitz       151      15      4.9  0.43        0         1   \n",
       "6        Nkiwkk       145      23      4.6  0.23        0         1   \n",
       "7        Nkilse       175      24      5.5  0.42        2         1   \n",
       "8       Ulisefs       149      27      4.7  0.40        0         1   \n",
       "9        Ulinss       154      28      3.6  0.35        0         1   \n",
       "\n",
       "    scaler_cluster  \n",
       "2                0  \n",
       "10               0  \n",
       "12               0  \n",
       "14               0  \n",
       "3                1  \n",
       "4                1  \n",
       "5                1  \n",
       "11               1  \n",
       "13               1  \n",
       "0                2  \n",
       "1                2  \n",
       "6                2  \n",
       "7                2  \n",
       "8                2  \n",
       "9                2  "
      ]
     },
     "execution_count": 17,
     "metadata": {},
     "output_type": "execute_result"
    }
   ],
   "source": [
    "beer['scaler_cluster'] = km.labels_\n",
    "beer.sort_values('scaler_cluster')"
   ]
  },
  {
   "cell_type": "code",
   "execution_count": 18,
   "metadata": {},
   "outputs": [
    {
     "data": {
      "text/html": [
       "<div>\n",
       "<style scoped>\n",
       "    .dataframe tbody tr th:only-of-type {\n",
       "        vertical-align: middle;\n",
       "    }\n",
       "\n",
       "    .dataframe tbody tr th {\n",
       "        vertical-align: top;\n",
       "    }\n",
       "\n",
       "    .dataframe thead th {\n",
       "        text-align: right;\n",
       "    }\n",
       "</style>\n",
       "<table border=\"1\" class=\"dataframe\">\n",
       "  <thead>\n",
       "    <tr style=\"text-align: right;\">\n",
       "      <th></th>\n",
       "      <th>calories</th>\n",
       "      <th>sodium</th>\n",
       "      <th>alcohol</th>\n",
       "      <th>cost</th>\n",
       "      <th>cluster</th>\n",
       "      <th>cluster2</th>\n",
       "    </tr>\n",
       "    <tr>\n",
       "      <th>scaler_cluster</th>\n",
       "      <th></th>\n",
       "      <th></th>\n",
       "      <th></th>\n",
       "      <th></th>\n",
       "      <th></th>\n",
       "      <th></th>\n",
       "    </tr>\n",
       "  </thead>\n",
       "  <tbody>\n",
       "    <tr>\n",
       "      <th>0</th>\n",
       "      <td>114.25</td>\n",
       "      <td>12.0</td>\n",
       "      <td>2.900000</td>\n",
       "      <td>0.462500</td>\n",
       "      <td>0.500000</td>\n",
       "      <td>0.5</td>\n",
       "    </tr>\n",
       "    <tr>\n",
       "      <th>1</th>\n",
       "      <td>152.80</td>\n",
       "      <td>13.4</td>\n",
       "      <td>4.860000</td>\n",
       "      <td>0.726000</td>\n",
       "      <td>0.800000</td>\n",
       "      <td>1.0</td>\n",
       "    </tr>\n",
       "    <tr>\n",
       "      <th>2</th>\n",
       "      <td>153.00</td>\n",
       "      <td>22.0</td>\n",
       "      <td>4.666667</td>\n",
       "      <td>0.376667</td>\n",
       "      <td>0.333333</td>\n",
       "      <td>1.0</td>\n",
       "    </tr>\n",
       "  </tbody>\n",
       "</table>\n",
       "</div>"
      ],
      "text/plain": [
       "                calories  sodium   alcohol      cost   cluster  cluster2\n",
       "scaler_cluster                                                          \n",
       "0                 114.25    12.0  2.900000  0.462500  0.500000       0.5\n",
       "1                 152.80    13.4  4.860000  0.726000  0.800000       1.0\n",
       "2                 153.00    22.0  4.666667  0.376667  0.333333       1.0"
      ]
     },
     "execution_count": 18,
     "metadata": {},
     "output_type": "execute_result"
    }
   ],
   "source": [
    "beer.groupby('scaler_cluster').mean()"
   ]
  },
  {
   "cell_type": "code",
   "execution_count": 19,
   "metadata": {},
   "outputs": [
    {
     "name": "stderr",
     "output_type": "stream",
     "text": [
      "D:\\Anaconda3\\lib\\site-packages\\ipykernel_launcher.py:1: FutureWarning: 'pandas.tools.plotting.scatter_matrix' is deprecated, import 'pandas.plotting.scatter_matrix' instead.\n",
      "  \"\"\"Entry point for launching an IPython kernel.\n"
     ]
    },
    {
     "data": {
      "text/plain": [
       "Text(0.5,0.98,'with 3 centroids initialized')"
      ]
     },
     "execution_count": 19,
     "metadata": {},
     "output_type": "execute_result"
    },
    {
     "data": {
      "image/png": "[encoded data removed]",
      "text/plain": [
       "<Figure size 1440x1440 with 16 Axes>"
      ]
     },
     "metadata": {},
     "output_type": "display_data"
    }
   ],
   "source": [
    "scatter_matrix(beer[['calories','sodium','alcohol','cost']],s=100,alpha=1,c=colors[beer['scaler_cluster']],figsize=(20,20))\n",
    "plt.suptitle(\"with 3 centroids initialized\")"
   ]
  },
  {
   "cell_type": "markdown",
   "metadata": {},
   "source": [
    "# 聚类评估：轮廓系数（silhouette Coefficient)\n",
    "    s(i) = (b(i) - a(i)) / max{a(i),b(i)}\n",
    "\n",
    "    si(i) = 1 - a(i)/b(i)  a(i)<b(i)\n",
    "    si(i) = 0              a(i)=b(i)\n",
    "    si(i) = b(i)/a(i) - 1  a(i)>b(i)\n",
    "\n",
    "    1.计算样本i到同簇其他样本的平均距离ai。ai越小，说明样本i越应该被聚类到该簇。将ai称为样本i的簇内不相似度\n",
    "    2.计算样本i到其他某簇Cj的所有样本的平均距离bij，称为样本i于簇Cj的不相似度。\n",
    "      定义为样本i的簇间不相似度：bi=min{bi1,bi2,...bin}\n",
    "    3.si接近1，则说明样本i聚类合理\n",
    "    4.si接近-1，则说明样本i更应该聚类到另外的簇\n",
    "    5.若si近似为0，则说明i在两个簇的边界上"
   ]
  },
  {
   "cell_type": "code",
   "execution_count": 20,
   "metadata": {},
   "outputs": [
    {
     "name": "stdout",
     "output_type": "stream",
     "text": [
      "-0.02933855228854573 0.4191914572808516\n"
     ]
    }
   ],
   "source": [
    "from sklearn import metrics\n",
    "score_scaled = metrics.silhouette_score(X,beer.scaler_cluster) #标准化聚类得分值\n",
    "score = metrics.silhouette_score(X,beer.cluster) #普通聚类得分值\n",
    "print(score_scaled,score)"
   ]
  },
  {
   "cell_type": "code",
   "execution_count": 23,
   "metadata": {},
   "outputs": [
    {
     "data": {
      "text/plain": [
       "[0.7156004763076081,\n",
       " 0.4191914572808516,\n",
       " 0.32043148467916,\n",
       " 0.324497803514275,\n",
       " 0.27390485755835137,\n",
       " 0.2931519052154566,\n",
       " 0.25122225372305595,\n",
       " 0.20627721916332048,\n",
       " 0.15306119830029027,\n",
       " 0.1430758019018026,\n",
       " 0.11691213906421878,\n",
       " 0.06210661140797425,\n",
       " 0.02383169468266084]"
      ]
     },
     "execution_count": 23,
     "metadata": {},
     "output_type": "execute_result"
    }
   ],
   "source": [
    "scores = []\n",
    "for k in range(2,15):\n",
    "    labels = KMeans(n_clusters=k).fit(X).labels_\n",
    "    score = metrics.silhouette_score(X,labels)\n",
    "    scores.append(score)\n",
    "scores"
   ]
  },
  {
   "cell_type": "code",
   "execution_count": 25,
   "metadata": {},
   "outputs": [
    {
     "data": {
      "text/plain": [
       "Text(0,0.5,'Silhouette score')"
      ]
     },
     "execution_count": 25,
     "metadata": {},
     "output_type": "execute_result"
    },
    {
     "data": {
      "image/png": "[encoded data removed]",
      "text/plain": [
       "<Figure size 432x288 with 1 Axes>"
      ]
     },
     "metadata": {},
     "output_type": "display_data"
    }
   ],
   "source": [
    "plt.plot(list(range(2,15)),scores)\n",
    "plt.xlabel(\"Number of Cluster Initialized\")\n",
    "plt.ylabel(\"Silhouette score\")"
   ]
  },
  {
   "cell_type": "markdown",
   "metadata": {},
   "source": [
    "## DBSCAN clustering"
   ]
  },
  {
   "cell_type": "code",
   "execution_count": 26,
   "metadata": {},
   "outputs": [],
   "source": [
    "from sklearn.cluster import DBSCAN\n",
    "db = DBSCAN(eps=10, min_samples=2).fit(X)"
   ]
  },
  {
   "cell_type": "code",
   "execution_count": 27,
   "metadata": {},
   "outputs": [],
   "source": [
    "labels = db.labels_"
   ]
  },
  {
   "cell_type": "code",
   "execution_count": 28,
   "metadata": {},
   "outputs": [
    {
     "data": {
      "text/html": [
       "<div>\n",
       "<style scoped>\n",
       "    .dataframe tbody tr th:only-of-type {\n",
       "        vertical-align: middle;\n",
       "    }\n",
       "\n",
       "    .dataframe tbody tr th {\n",
       "        vertical-align: top;\n",
       "    }\n",
       "\n",
       "    .dataframe thead th {\n",
       "        text-align: right;\n",
       "    }\n",
       "</style>\n",
       "<table border=\"1\" class=\"dataframe\">\n",
       "  <thead>\n",
       "    <tr style=\"text-align: right;\">\n",
       "      <th></th>\n",
       "      <th>name</th>\n",
       "      <th>calories</th>\n",
       "      <th>sodium</th>\n",
       "      <th>alcohol</th>\n",
       "      <th>cost</th>\n",
       "      <th>cluster</th>\n",
       "      <th>cluster2</th>\n",
       "      <th>scaler_cluster</th>\n",
       "      <th>cluster_db</th>\n",
       "    </tr>\n",
       "  </thead>\n",
       "  <tbody>\n",
       "    <tr>\n",
       "      <th>7</th>\n",
       "      <td>Nkilse</td>\n",
       "      <td>175</td>\n",
       "      <td>24</td>\n",
       "      <td>5.5</td>\n",
       "      <td>0.42</td>\n",
       "      <td>2</td>\n",
       "      <td>1</td>\n",
       "      <td>2</td>\n",
       "      <td>-1</td>\n",
       "    </tr>\n",
       "    <tr>\n",
       "      <th>12</th>\n",
       "      <td>Snsef</td>\n",
       "      <td>68</td>\n",
       "      <td>15</td>\n",
       "      <td>2.3</td>\n",
       "      <td>0.54</td>\n",
       "      <td>1</td>\n",
       "      <td>0</td>\n",
       "      <td>0</td>\n",
       "      <td>-1</td>\n",
       "    </tr>\n",
       "    <tr>\n",
       "      <th>14</th>\n",
       "      <td>Ssdfi</td>\n",
       "      <td>97</td>\n",
       "      <td>7</td>\n",
       "      <td>4.2</td>\n",
       "      <td>0.47</td>\n",
       "      <td>1</td>\n",
       "      <td>0</td>\n",
       "      <td>0</td>\n",
       "      <td>-1</td>\n",
       "    </tr>\n",
       "    <tr>\n",
       "      <th>0</th>\n",
       "      <td>Budweiser</td>\n",
       "      <td>144</td>\n",
       "      <td>15</td>\n",
       "      <td>4.7</td>\n",
       "      <td>0.43</td>\n",
       "      <td>0</td>\n",
       "      <td>1</td>\n",
       "      <td>2</td>\n",
       "      <td>0</td>\n",
       "    </tr>\n",
       "    <tr>\n",
       "      <th>1</th>\n",
       "      <td>Schlitz</td>\n",
       "      <td>151</td>\n",
       "      <td>15</td>\n",
       "      <td>4.9</td>\n",
       "      <td>0.43</td>\n",
       "      <td>0</td>\n",
       "      <td>1</td>\n",
       "      <td>2</td>\n",
       "      <td>0</td>\n",
       "    </tr>\n",
       "    <tr>\n",
       "      <th>2</th>\n",
       "      <td>LowernBrau</td>\n",
       "      <td>157</td>\n",
       "      <td>15</td>\n",
       "      <td>0.9</td>\n",
       "      <td>0.48</td>\n",
       "      <td>0</td>\n",
       "      <td>1</td>\n",
       "      <td>0</td>\n",
       "      <td>0</td>\n",
       "    </tr>\n",
       "    <tr>\n",
       "      <th>3</th>\n",
       "      <td>Kronenbourg</td>\n",
       "      <td>170</td>\n",
       "      <td>7</td>\n",
       "      <td>5.2</td>\n",
       "      <td>0.73</td>\n",
       "      <td>2</td>\n",
       "      <td>1</td>\n",
       "      <td>1</td>\n",
       "      <td>0</td>\n",
       "    </tr>\n",
       "    <tr>\n",
       "      <th>4</th>\n",
       "      <td>Abbnes</td>\n",
       "      <td>161</td>\n",
       "      <td>11</td>\n",
       "      <td>5.0</td>\n",
       "      <td>0.73</td>\n",
       "      <td>2</td>\n",
       "      <td>1</td>\n",
       "      <td>1</td>\n",
       "      <td>0</td>\n",
       "    </tr>\n",
       "    <tr>\n",
       "      <th>5</th>\n",
       "      <td>Lieksl</td>\n",
       "      <td>152</td>\n",
       "      <td>11</td>\n",
       "      <td>5.0</td>\n",
       "      <td>0.77</td>\n",
       "      <td>0</td>\n",
       "      <td>1</td>\n",
       "      <td>1</td>\n",
       "      <td>0</td>\n",
       "    </tr>\n",
       "    <tr>\n",
       "      <th>6</th>\n",
       "      <td>Nkiwkk</td>\n",
       "      <td>145</td>\n",
       "      <td>23</td>\n",
       "      <td>4.6</td>\n",
       "      <td>0.23</td>\n",
       "      <td>0</td>\n",
       "      <td>1</td>\n",
       "      <td>2</td>\n",
       "      <td>0</td>\n",
       "    </tr>\n",
       "    <tr>\n",
       "      <th>8</th>\n",
       "      <td>Ulisefs</td>\n",
       "      <td>149</td>\n",
       "      <td>27</td>\n",
       "      <td>4.7</td>\n",
       "      <td>0.40</td>\n",
       "      <td>0</td>\n",
       "      <td>1</td>\n",
       "      <td>2</td>\n",
       "      <td>0</td>\n",
       "    </tr>\n",
       "    <tr>\n",
       "      <th>9</th>\n",
       "      <td>Ulinss</td>\n",
       "      <td>154</td>\n",
       "      <td>28</td>\n",
       "      <td>3.6</td>\n",
       "      <td>0.35</td>\n",
       "      <td>0</td>\n",
       "      <td>1</td>\n",
       "      <td>2</td>\n",
       "      <td>0</td>\n",
       "    </tr>\n",
       "    <tr>\n",
       "      <th>10</th>\n",
       "      <td>Qsedse</td>\n",
       "      <td>135</td>\n",
       "      <td>11</td>\n",
       "      <td>4.2</td>\n",
       "      <td>0.36</td>\n",
       "      <td>0</td>\n",
       "      <td>1</td>\n",
       "      <td>0</td>\n",
       "      <td>0</td>\n",
       "    </tr>\n",
       "    <tr>\n",
       "      <th>11</th>\n",
       "      <td>Abbiue</td>\n",
       "      <td>150</td>\n",
       "      <td>19</td>\n",
       "      <td>4.7</td>\n",
       "      <td>0.61</td>\n",
       "      <td>0</td>\n",
       "      <td>1</td>\n",
       "      <td>1</td>\n",
       "      <td>0</td>\n",
       "    </tr>\n",
       "    <tr>\n",
       "      <th>13</th>\n",
       "      <td>Ocean</td>\n",
       "      <td>131</td>\n",
       "      <td>19</td>\n",
       "      <td>4.4</td>\n",
       "      <td>0.79</td>\n",
       "      <td>0</td>\n",
       "      <td>1</td>\n",
       "      <td>1</td>\n",
       "      <td>0</td>\n",
       "    </tr>\n",
       "  </tbody>\n",
       "</table>\n",
       "</div>"
      ],
      "text/plain": [
       "           name  calories  sodium  alcohol  cost  cluster  cluster2  \\\n",
       "7        Nkilse       175      24      5.5  0.42        2         1   \n",
       "12        Snsef        68      15      2.3  0.54        1         0   \n",
       "14        Ssdfi        97       7      4.2  0.47        1         0   \n",
       "0     Budweiser       144      15      4.7  0.43        0         1   \n",
       "1       Schlitz       151      15      4.9  0.43        0         1   \n",
       "2    LowernBrau       157      15      0.9  0.48        0         1   \n",
       "3   Kronenbourg       170       7      5.2  0.73        2         1   \n",
       "4        Abbnes       161      11      5.0  0.73        2         1   \n",
       "5        Lieksl       152      11      5.0  0.77        0         1   \n",
       "6        Nkiwkk       145      23      4.6  0.23        0         1   \n",
       "8       Ulisefs       149      27      4.7  0.40        0         1   \n",
       "9        Ulinss       154      28      3.6  0.35        0         1   \n",
       "10       Qsedse       135      11      4.2  0.36        0         1   \n",
       "11       Abbiue       150      19      4.7  0.61        0         1   \n",
       "13        Ocean       131      19      4.4  0.79        0         1   \n",
       "\n",
       "    scaler_cluster  cluster_db  \n",
       "7                2          -1  \n",
       "12               0          -1  \n",
       "14               0          -1  \n",
       "0                2           0  \n",
       "1                2           0  \n",
       "2                0           0  \n",
       "3                1           0  \n",
       "4                1           0  \n",
       "5                1           0  \n",
       "6                2           0  \n",
       "8                2           0  \n",
       "9                2           0  \n",
       "10               0           0  \n",
       "11               1           0  \n",
       "13               1           0  "
      ]
     },
     "execution_count": 28,
     "metadata": {},
     "output_type": "execute_result"
    }
   ],
   "source": [
    "beer['cluster_db'] = labels\n",
    "beer.sort_values('cluster_db')"
   ]
  },
  {
   "cell_type": "code",
   "execution_count": 29,
   "metadata": {},
   "outputs": [
    {
     "data": {
      "text/html": [
       "<div>\n",
       "<style scoped>\n",
       "    .dataframe tbody tr th:only-of-type {\n",
       "        vertical-align: middle;\n",
       "    }\n",
       "\n",
       "    .dataframe tbody tr th {\n",
       "        vertical-align: top;\n",
       "    }\n",
       "\n",
       "    .dataframe thead th {\n",
       "        text-align: right;\n",
       "    }\n",
       "</style>\n",
       "<table border=\"1\" class=\"dataframe\">\n",
       "  <thead>\n",
       "    <tr style=\"text-align: right;\">\n",
       "      <th></th>\n",
       "      <th>calories</th>\n",
       "      <th>sodium</th>\n",
       "      <th>alcohol</th>\n",
       "      <th>cost</th>\n",
       "      <th>cluster</th>\n",
       "      <th>cluster2</th>\n",
       "      <th>scaler_cluster</th>\n",
       "    </tr>\n",
       "    <tr>\n",
       "      <th>cluster_db</th>\n",
       "      <th></th>\n",
       "      <th></th>\n",
       "      <th></th>\n",
       "      <th></th>\n",
       "      <th></th>\n",
       "      <th></th>\n",
       "      <th></th>\n",
       "    </tr>\n",
       "  </thead>\n",
       "  <tbody>\n",
       "    <tr>\n",
       "      <th>-1</th>\n",
       "      <td>113.333333</td>\n",
       "      <td>15.333333</td>\n",
       "      <td>4.000</td>\n",
       "      <td>0.476667</td>\n",
       "      <td>1.333333</td>\n",
       "      <td>0.333333</td>\n",
       "      <td>0.666667</td>\n",
       "    </tr>\n",
       "    <tr>\n",
       "      <th>0</th>\n",
       "      <td>149.916667</td>\n",
       "      <td>16.750000</td>\n",
       "      <td>4.325</td>\n",
       "      <td>0.525833</td>\n",
       "      <td>0.333333</td>\n",
       "      <td>1.000000</td>\n",
       "      <td>1.250000</td>\n",
       "    </tr>\n",
       "  </tbody>\n",
       "</table>\n",
       "</div>"
      ],
      "text/plain": [
       "              calories     sodium  alcohol      cost   cluster  cluster2  \\\n",
       "cluster_db                                                                 \n",
       "-1          113.333333  15.333333    4.000  0.476667  1.333333  0.333333   \n",
       " 0          149.916667  16.750000    4.325  0.525833  0.333333  1.000000   \n",
       "\n",
       "            scaler_cluster  \n",
       "cluster_db                  \n",
       "-1                0.666667  \n",
       " 0                1.250000  "
      ]
     },
     "execution_count": 29,
     "metadata": {},
     "output_type": "execute_result"
    }
   ],
   "source": [
    "beer.groupby('cluster_db').mean()"
   ]
  },
  {
   "cell_type": "code",
   "execution_count": 30,
   "metadata": {},
   "outputs": [
    {
     "name": "stderr",
     "output_type": "stream",
     "text": [
      "D:\\Anaconda3\\lib\\site-packages\\ipykernel_launcher.py:1: FutureWarning: 'pandas.tools.plotting.scatter_matrix' is deprecated, import 'pandas.plotting.scatter_matrix' instead.\n",
      "  \"\"\"Entry point for launching an IPython kernel.\n"
     ]
    },
    {
     "data": {
      "text/plain": [
       "Text(0.5,0.98,'dbscan centroids initialized')"
      ]
     },
     "execution_count": 30,
     "metadata": {},
     "output_type": "execute_result"
    },
    {
     "data": {
      "image/png": "[encoded data removed]",
      "text/plain": [
       "<Figure size 1440x1440 with 16 Axes>"
      ]
     },
     "metadata": {},
     "output_type": "display_data"
    }
   ],
   "source": [
    "scatter_matrix(beer[['calories','sodium','alcohol','cost']],s=100,alpha=1,c=colors[beer['cluster_db']],figsize=(20,20))\n",
    "plt.suptitle(\"dbscan centroids initialized\")"
   ]
  },
  {
   "cell_type": "code",
   "execution_count": null,
   "metadata": {},
   "outputs": [],
   "source": []
  }
 ],
 "metadata": {
  "kernelspec": {
   "display_name": "Python 3",
   "language": "python",
   "name": "python3"
  },
  "language_info": {
   "codemirror_mode": {
    "name": "ipython",
    "version": 3
   },
   "file_extension": ".py",
   "mimetype": "text/x-python",
   "name": "python",
   "nbconvert_exporter": "python",
   "pygments_lexer": "ipython3",
   "version": "3.6.5"
  }
 },
 "nbformat": 4,
 "nbformat_minor": 2
}
